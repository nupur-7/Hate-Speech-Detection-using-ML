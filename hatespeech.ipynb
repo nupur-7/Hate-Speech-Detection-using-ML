{
 "cells": [
  {
   "cell_type": "code",
   "execution_count": 46,
   "id": "3f877bc3-955f-44e3-8256-6e52d5c1ad12",
   "metadata": {},
   "outputs": [
    {
     "data": {
      "text/html": [
       "<div>\n",
       "<style scoped>\n",
       "    .dataframe tbody tr th:only-of-type {\n",
       "        vertical-align: middle;\n",
       "    }\n",
       "\n",
       "    .dataframe tbody tr th {\n",
       "        vertical-align: top;\n",
       "    }\n",
       "\n",
       "    .dataframe thead th {\n",
       "        text-align: right;\n",
       "    }\n",
       "</style>\n",
       "<table border=\"1\" class=\"dataframe\">\n",
       "  <thead>\n",
       "    <tr style=\"text-align: right;\">\n",
       "      <th></th>\n",
       "      <th>Unnamed: 0</th>\n",
       "      <th>count</th>\n",
       "      <th>hate_speech</th>\n",
       "      <th>offensive_language</th>\n",
       "      <th>neither</th>\n",
       "      <th>class</th>\n",
       "      <th>tweet</th>\n",
       "    </tr>\n",
       "  </thead>\n",
       "  <tbody>\n",
       "    <tr>\n",
       "      <th>0</th>\n",
       "      <td>0</td>\n",
       "      <td>3</td>\n",
       "      <td>0</td>\n",
       "      <td>0</td>\n",
       "      <td>3</td>\n",
       "      <td>2</td>\n",
       "      <td>!!! RT @mayasolovely: As a woman you shouldn't...</td>\n",
       "    </tr>\n",
       "    <tr>\n",
       "      <th>1</th>\n",
       "      <td>1</td>\n",
       "      <td>3</td>\n",
       "      <td>0</td>\n",
       "      <td>3</td>\n",
       "      <td>0</td>\n",
       "      <td>1</td>\n",
       "      <td>!!!!! RT @mleew17: boy dats cold...tyga dwn ba...</td>\n",
       "    </tr>\n",
       "    <tr>\n",
       "      <th>2</th>\n",
       "      <td>2</td>\n",
       "      <td>3</td>\n",
       "      <td>0</td>\n",
       "      <td>3</td>\n",
       "      <td>0</td>\n",
       "      <td>1</td>\n",
       "      <td>!!!!!!! RT @UrKindOfBrand Dawg!!!! RT @80sbaby...</td>\n",
       "    </tr>\n",
       "  </tbody>\n",
       "</table>\n",
       "</div>"
      ],
      "text/plain": [
       "   Unnamed: 0  count  hate_speech  offensive_language  neither  class  \\\n",
       "0           0      3            0                   0        3      2   \n",
       "1           1      3            0                   3        0      1   \n",
       "2           2      3            0                   3        0      1   \n",
       "\n",
       "                                               tweet  \n",
       "0  !!! RT @mayasolovely: As a woman you shouldn't...  \n",
       "1  !!!!! RT @mleew17: boy dats cold...tyga dwn ba...  \n",
       "2  !!!!!!! RT @UrKindOfBrand Dawg!!!! RT @80sbaby...  "
      ]
     },
     "execution_count": 46,
     "metadata": {},
     "output_type": "execute_result"
    }
   ],
   "source": [
    "import pandas as pd \n",
    "df=pd.read_csv(\"labeled_data.csv\")\n",
    "df.head(3)"
   ]
  },
  {
   "cell_type": "code",
   "execution_count": 47,
   "id": "3ee9fb06-d0d2-485f-8986-06b303f016e4",
   "metadata": {},
   "outputs": [
    {
     "name": "stdout",
     "output_type": "stream",
     "text": [
      "<class 'pandas.core.frame.DataFrame'>\n",
      "RangeIndex: 24783 entries, 0 to 24782\n",
      "Data columns (total 7 columns):\n",
      " #   Column              Non-Null Count  Dtype \n",
      "---  ------              --------------  ----- \n",
      " 0   Unnamed: 0          24783 non-null  int64 \n",
      " 1   count               24783 non-null  int64 \n",
      " 2   hate_speech         24783 non-null  int64 \n",
      " 3   offensive_language  24783 non-null  int64 \n",
      " 4   neither             24783 non-null  int64 \n",
      " 5   class               24783 non-null  int64 \n",
      " 6   tweet               24783 non-null  object\n",
      "dtypes: int64(6), object(1)\n",
      "memory usage: 1.3+ MB\n"
     ]
    }
   ],
   "source": [
    "df.info()"
   ]
  },
  {
   "cell_type": "code",
   "execution_count": 48,
   "id": "bee48b54-15e3-4862-9893-69be204b72ad",
   "metadata": {},
   "outputs": [
    {
     "data": {
      "text/plain": [
       "Index(['Unnamed: 0', 'count', 'hate_speech', 'offensive_language', 'neither',\n",
       "       'class', 'tweet'],\n",
       "      dtype='object')"
      ]
     },
     "execution_count": 48,
     "metadata": {},
     "output_type": "execute_result"
    }
   ],
   "source": [
    "df.columns"
   ]
  },
  {
   "cell_type": "code",
   "execution_count": 49,
   "id": "8ce34ab1-ff73-4ff2-9ec2-96d51b7a64aa",
   "metadata": {},
   "outputs": [
    {
     "data": {
      "text/plain": [
       "Unnamed: 0            0\n",
       "count                 0\n",
       "hate_speech           0\n",
       "offensive_language    0\n",
       "neither               0\n",
       "class                 0\n",
       "tweet                 0\n",
       "dtype: int64"
      ]
     },
     "execution_count": 49,
     "metadata": {},
     "output_type": "execute_result"
    }
   ],
   "source": [
    "df.isnull().sum() #checking the number of missing values in each column"
   ]
  },
  {
   "cell_type": "code",
   "execution_count": 50,
   "id": "dc2561e0-07fc-429b-a342-43d98363c0b0",
   "metadata": {},
   "outputs": [],
   "source": [
    "tweets=df.tweet #storing the tweet column of dataset into variable named tweets"
   ]
  },
  {
   "cell_type": "code",
   "execution_count": 51,
   "id": "1b0d409c",
   "metadata": {},
   "outputs": [
    {
     "data": {
      "text/plain": [
       "array([2, 1, 0], dtype=int64)"
      ]
     },
     "execution_count": 51,
     "metadata": {},
     "output_type": "execute_result"
    }
   ],
   "source": [
    "df['class'].unique()"
   ]
  },
  {
   "cell_type": "code",
   "execution_count": 52,
   "id": "9550b521-ee4e-4816-a63e-0e8de730ee6d",
   "metadata": {},
   "outputs": [],
   "source": [
    "#DATA PREPROCESSING\n",
    "#It aims to ensure that the data is clean, consistent, and suitable for training a machine learning model.\n",
    "\n",
    "#1. Text Cleaning(removing punctuation,special charactersetc.)\n",
    "#2. Tokenization (Breaking the text into individual words or tokens)\n",
    "#3. Convert all text to lowercase\n",
    "#4. Removing Stopwords(words that do not carry much meaning, such as \"and,\" \"the,\" \"is,\" etc.)\n",
    "#5. Stemming (Reduceing words to their base or root form)\n",
    "# Handling Missing Data "
   ]
  },
  {
   "cell_type": "code",
   "execution_count": 53,
   "metadata": {},
   "outputs": [],
   "source": [
    "import re\n",
    "import nltk \n",
    "stemmer=nltk.SnowballStemmer(\"english\")\n",
    "from nltk.corpus import stopwords\n"
   ]
  },
  {
   "cell_type": "code",
   "execution_count": 54,
   "metadata": {},
   "outputs": [
    {
     "name": "stderr",
     "output_type": "stream",
     "text": [
      "[nltk_data] Downloading package stopwords to\n",
      "[nltk_data]     C:\\Users\\nupur\\AppData\\Roaming\\nltk_data...\n",
      "[nltk_data]   Package stopwords is already up-to-date!\n"
     ]
    },
    {
     "data": {
      "text/plain": [
       "True"
      ]
     },
     "execution_count": 54,
     "metadata": {},
     "output_type": "execute_result"
    }
   ],
   "source": [
    "nltk.download('stopwords')"
   ]
  },
  {
   "cell_type": "code",
   "execution_count": 55,
   "metadata": {},
   "outputs": [],
   "source": [
    "import string  \n",
    "stopword=set(stopwords.words(\"english\"))"
   ]
  },
  {
   "cell_type": "code",
   "execution_count": 56,
   "id": "35929178",
   "metadata": {},
   "outputs": [],
   "source": [
    "# df['labels']= df['class'].map({0:\"Hate Speech Detected\",1:\"Offevsive language Detected\",2:\"none\"})\n",
    "# df.head(3)"
   ]
  },
  {
   "cell_type": "code",
   "execution_count": 58,
   "id": "7e48a916",
   "metadata": {},
   "outputs": [
    {
     "data": {
      "text/html": [
       "<div>\n",
       "<style scoped>\n",
       "    .dataframe tbody tr th:only-of-type {\n",
       "        vertical-align: middle;\n",
       "    }\n",
       "\n",
       "    .dataframe tbody tr th {\n",
       "        vertical-align: top;\n",
       "    }\n",
       "\n",
       "    .dataframe thead th {\n",
       "        text-align: right;\n",
       "    }\n",
       "</style>\n",
       "<table border=\"1\" class=\"dataframe\">\n",
       "  <thead>\n",
       "    <tr style=\"text-align: right;\">\n",
       "      <th></th>\n",
       "      <th>tweet</th>\n",
       "      <th>class</th>\n",
       "    </tr>\n",
       "  </thead>\n",
       "  <tbody>\n",
       "    <tr>\n",
       "      <th>0</th>\n",
       "      <td>!!! RT @mayasolovely: As a woman you shouldn't...</td>\n",
       "      <td>2</td>\n",
       "    </tr>\n",
       "    <tr>\n",
       "      <th>1</th>\n",
       "      <td>!!!!! RT @mleew17: boy dats cold...tyga dwn ba...</td>\n",
       "      <td>1</td>\n",
       "    </tr>\n",
       "    <tr>\n",
       "      <th>2</th>\n",
       "      <td>!!!!!!! RT @UrKindOfBrand Dawg!!!! RT @80sbaby...</td>\n",
       "      <td>1</td>\n",
       "    </tr>\n",
       "  </tbody>\n",
       "</table>\n",
       "</div>"
      ],
      "text/plain": [
       "                                               tweet  class\n",
       "0  !!! RT @mayasolovely: As a woman you shouldn't...      2\n",
       "1  !!!!! RT @mleew17: boy dats cold...tyga dwn ba...      1\n",
       "2  !!!!!!! RT @UrKindOfBrand Dawg!!!! RT @80sbaby...      1"
      ]
     },
     "execution_count": 58,
     "metadata": {},
     "output_type": "execute_result"
    }
   ],
   "source": [
    "df1=df[['tweet','class']]\n",
    "df1.head(3)"
   ]
  },
  {
   "cell_type": "code",
   "execution_count": 59,
   "id": "68b40c99",
   "metadata": {},
   "outputs": [],
   "source": [
    "#The clean function here is designed to clean and transform a given text\n",
    "def clean(twt):\n",
    "    twt=str(twt).lower()\n",
    "    twt=re.sub(r'\\[.*?\\]','',twt) # match the shortest sequence of characters between square brackets in a given text.\n",
    "    twt = re.sub(r\"https?://[^\\s]+\\.[^\\s]+\", \"\", twt)  # Removes any URL\n",
    "    twt=re.sub(r'[^\\w\\s]','',twt) #to delete punctuations\n",
    "    twt=re.sub(r'\\n','',twt) #removes newline\n",
    "    twt=re.sub(r'\\w*\\d\\w*','',twt) #removes words with digits\n",
    "    twt=[word for word in twt.split(' ')if word not in stopword] #removes stopwords\n",
    "    twt=\" \".join(twt) #join cleaned words back to string\n",
    "    twt=[stemmer.stem(word) for word in twt.split(' ') ]#apply stemming to each word\n",
    "    twt=\" \".join(twt) #join stemmed words back to string\n",
    "    return twt\n",
    "\n",
    "\n"
   ]
  },
  {
   "cell_type": "code",
   "execution_count": 60,
   "id": "bec61eea",
   "metadata": {},
   "outputs": [
    {
     "name": "stderr",
     "output_type": "stream",
     "text": [
      "C:\\Users\\nupur\\AppData\\Local\\Temp\\ipykernel_61112\\2418884873.py:1: SettingWithCopyWarning: \n",
      "A value is trying to be set on a copy of a slice from a DataFrame.\n",
      "Try using .loc[row_indexer,col_indexer] = value instead\n",
      "\n",
      "See the caveats in the documentation: https://pandas.pydata.org/pandas-docs/stable/user_guide/indexing.html#returning-a-view-versus-a-copy\n",
      "  df1[\"tweet\"]=df1[\"tweet\"].apply(clean) #apply clean function to tweet column\n"
     ]
    }
   ],
   "source": [
    "df1[\"tweet\"]=df1[\"tweet\"].apply(clean) #apply clean function to tweet column \n"
   ]
  },
  {
   "cell_type": "code",
   "execution_count": 61,
   "id": "ca8bfa5a",
   "metadata": {},
   "outputs": [],
   "source": [
    "import numpy as np #for numerical operations\n",
    "from sklearn.feature_extraction.text import CountVectorizer  #for text feature extraction  will be used to convert the text data into a matrix of token counts.\n",
    "from sklearn.model_selection import train_test_split  #for splitting data sets\n",
    "from sklearn.tree import DecisionTreeClassifier  # for implementing decision tree-based classification\n"
   ]
  },
  {
   "cell_type": "code",
   "execution_count": 63,
   "id": "2287e8ac",
   "metadata": {},
   "outputs": [],
   "source": [
    "x=np.array(df1[\"tweet\"])\n",
    "y=np.array(df1[\"class\"])\n",
    "\n",
    "cv = CountVectorizer()  # creates an instance of the CountVectorizer class \n",
    "x= cv.fit_transform(x)  #converts the text data into a sparse matrix of token counts\n",
    "X_train, X_test, y_train, y_test = train_test_split(x,y,test_size = 0.33,random_state=42)\n",
    "\n"
   ]
  },
  {
   "cell_type": "code",
   "execution_count": 64,
   "id": "9251e7a1",
   "metadata": {},
   "outputs": [],
   "source": [
    "model=DecisionTreeClassifier()\n",
    "model.fit(X_train, y_train) #to train the decision tree classifier\n",
    "y_predict=model.predict(X_test)\n",
    "\n"
   ]
  },
  {
   "cell_type": "code",
   "execution_count": 65,
   "id": "53683f1b",
   "metadata": {},
   "outputs": [],
   "source": [
    "import pickle\n",
    "with open(\"model.pkl\", \"wb\") as f:\n",
    "    pickle.dump(model, f)  #save the trained model to a file named \"model.pkl\"\n",
    "\n",
    "with open(\"vectorizer.pkl\", \"wb\") as f:\n",
    "    pickle.dump(cv, f)  #save the CountVectorizer to a file named \"vectorizer.pkl\""
   ]
  },
  {
   "cell_type": "code",
   "execution_count": 66,
   "id": "ee42eec4",
   "metadata": {},
   "outputs": [
    {
     "name": "stdout",
     "output_type": "stream",
     "text": [
      "0.8678322533317031\n"
     ]
    }
   ],
   "source": [
    "from sklearn.metrics import accuracy_score\n",
    "print(accuracy_score(y_test,y_predict))"
   ]
  },
  {
   "cell_type": "code",
   "execution_count": null,
   "id": "889237e0",
   "metadata": {},
   "outputs": [
    {
     "name": "stdout",
     "output_type": "stream",
     "text": [
      "[0]\n"
     ]
    }
   ],
   "source": [
    "data=\"lets kill jews and kill them for fun \"\n",
    "data=cv.transform([data]).toarray() #converts the sparse matrix representation of the transformed data into a dense NumPy array.( represents the token counts of the words in the input text, using the same vocabulary learned during training.)\n",
    "print(model.predict((data))) #m ake predictions on the transformed data using the trained decision tree classifier"
   ]
  },
  {
   "cell_type": "code",
   "execution_count": 68,
   "id": "28808897",
   "metadata": {},
   "outputs": [
    {
     "name": "stdout",
     "output_type": "stream",
     "text": [
      "[1]\n"
     ]
    }
   ],
   "source": [
    "\n",
    "data=\"this bitch is getting on my nerves\"\n",
    "data=cv.transform([data]).toarray() \n",
    "print(model.predict((data))) "
   ]
  },
  {
   "cell_type": "code",
   "execution_count": 69,
   "id": "277375b8",
   "metadata": {},
   "outputs": [
    {
     "name": "stdout",
     "output_type": "stream",
     "text": [
      "[2]\n"
     ]
    }
   ],
   "source": [
    "data=\"this b*tch is getting on my nerves\"\n",
    "data=cv.transform([data]).toarray()\n",
    "print(model.predict((data)))"
   ]
  },
  {
   "cell_type": "code",
   "execution_count": 73,
   "id": "07d979d7",
   "metadata": {},
   "outputs": [
    {
     "name": "stdout",
     "output_type": "stream",
     "text": [
      "Precision for class \"Hate Speech Detected\": 0.34841628959276016\n",
      "Precision for class \"Offensive Language Detected\": 0.9143435601931164\n",
      "Precision for class \"None\": 0.8153495440729484\n",
      "\n",
      "Classification Report:\n",
      "                              precision    recall  f1-score   support\n",
      "\n",
      "       Hate Speech Detected       0.35      0.33      0.34       465\n",
      "Offensive Language Detected       0.91      0.93      0.92      6335\n",
      "                       None       0.82      0.78      0.80      1379\n",
      "\n",
      "                   accuracy                           0.87      8179\n",
      "                  macro avg       0.69      0.68      0.69      8179\n",
      "               weighted avg       0.87      0.87      0.87      8179\n",
      "\n"
     ]
    }
   ],
   "source": [
    "from sklearn.metrics import precision_score, classification_report\n",
    "\n",
    "# Ensure y_test and y_predict contain label strings (not integers)\n",
    "# If not, map them as needed using your label mapping dictionary\n",
    "label_mapping = {0: \"Hate Speech Detected\", 1: \"Offensive Language Detected\", 2: \"None\"}\n",
    "\n",
    "# Compute precision\n",
    "precision = precision_score(y_test, y_predict, average=None)\n",
    "\n",
    "# Print precision per class\n",
    "for i, label in enumerate(label_mapping.values()):\n",
    "    print(f'Precision for class \"{label}\": {precision[i]}')\n",
    "\n",
    "# Print classification report with string target names\n",
    "print('\\nClassification Report:\\n', classification_report(\n",
    "    y_test, y_predict, target_names=list(label_mapping.values())\n",
    "))\n"
   ]
  },
  {
   "cell_type": "code",
   "execution_count": 75,
   "id": "2aabdf7a",
   "metadata": {},
   "outputs": [
    {
     "data": {
      "image/png": "[encoded data removed]",
      "text/plain": [
       "<Figure size 1000x700 with 2 Axes>"
      ]
     },
     "metadata": {},
     "output_type": "display_data"
    }
   ],
   "source": [
    "import matplotlib.pyplot as plt\n",
    "import seaborn as sns\n",
    "conf_matrix = confusion_matrix(y_test, y_predict)\n",
    "plt.figure(figsize=(10,7))\n",
    "sns.heatmap(conf_matrix, annot=True, fmt='d', cmap='Blues', xticklabels=df['class'].unique(), yticklabels=df['class'].unique())\n",
    "plt.xlabel('Predicted')\n",
    "plt.ylabel('Actual')\n",
    "plt.title('Confusion Matrix')\n",
    "plt.show()"
   ]
  }
 ],
 "metadata": {
  "kernelspec": {
   "display_name": "Python 3",
   "language": "python",
   "name": "python3"
  },
  "language_info": {
   "codemirror_mode": {
    "name": "ipython",
    "version": 3
   },
   "file_extension": ".py",
   "mimetype": "text/x-python",
   "name": "python",
   "nbconvert_exporter": "python",
   "pygments_lexer": "ipython3",
   "version": "3.10.11"
  }
 },
 "nbformat": 4,
 "nbformat_minor": 5
}
